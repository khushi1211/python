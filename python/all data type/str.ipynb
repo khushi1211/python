{
 "cells": [
  {
   "cell_type": "code",
   "execution_count": 7,
   "metadata": {},
   "outputs": [
    {
     "name": "stdout",
     "output_type": "stream",
     "text": [
      "\n",
      "\n"
     ]
    }
   ],
   "source": [
    "s1=\"\"\n",
    "print(s1)\n",
    "\n",
    "s2=str()   #print empty string \n",
    "print(s2)\n",
    "\n"
   ]
  },
  {
   "cell_type": "code",
   "execution_count": 8,
   "metadata": {},
   "outputs": [
    {
     "name": "stdout",
     "output_type": "stream",
     "text": [
      "[11, 22]\n"
     ]
    }
   ],
   "source": [
    "s2 = str([11,22])  #type casting\n",
    "print(s2)"
   ]
  },
  {
   "cell_type": "code",
   "execution_count": 9,
   "metadata": {},
   "outputs": [
    {
     "name": "stdout",
     "output_type": "stream",
     "text": [
      "k\n",
      "i\n",
      "kh\n"
     ]
    }
   ],
   "source": [
    "s3 = \"khushi\" #find tha element using index\n",
    "print(s3[0])\n",
    "\n",
    "\n",
    "s4 =\"khushi\"\n",
    "print(s3[-1])\n",
    "\n",
    "s5 =\"khushi\"\n",
    "print(s5[ :2])"
   ]
  },
  {
   "cell_type": "code",
   "execution_count": 10,
   "metadata": {},
   "outputs": [
    {
     "name": "stdout",
     "output_type": "stream",
     "text": [
      "khushi"
     ]
    }
   ],
   "source": [
    "s6 = \"khushi\"  #print string using for for loop\n",
    "for e in s6:\n",
    "    print(e,end=\"\") "
   ]
  },
  {
   "cell_type": "code",
   "execution_count": 11,
   "metadata": {},
   "outputs": [
    {
     "data": {
      "text/plain": [
       "6"
      ]
     },
     "execution_count": 11,
     "metadata": {},
     "output_type": "execute_result"
    }
   ],
   "source": [
    "#built in function\n",
    "s6 =\"khushi\"\n",
    "len(s6)"
   ]
  },
  {
   "cell_type": "code",
   "execution_count": 12,
   "metadata": {},
   "outputs": [
    {
     "data": {
      "text/plain": [
       "'u'"
      ]
     },
     "execution_count": 12,
     "metadata": {},
     "output_type": "execute_result"
    }
   ],
   "source": [
    "s6 =\"khushi\"\n",
    "max(s6)"
   ]
  },
  {
   "cell_type": "code",
   "execution_count": 13,
   "metadata": {},
   "outputs": [
    {
     "data": {
      "text/plain": [
       "'h'"
      ]
     },
     "execution_count": 13,
     "metadata": {},
     "output_type": "execute_result"
    }
   ],
   "source": [
    "s6 =\"khushi\"\n",
    "min(s6)"
   ]
  },
  {
   "cell_type": "code",
   "execution_count": 14,
   "metadata": {},
   "outputs": [
    {
     "data": {
      "text/plain": [
       "['h', 'h', 'i', 'k', 's', 'u']"
      ]
     },
     "execution_count": 14,
     "metadata": {},
     "output_type": "execute_result"
    }
   ],
   "source": [
    "s6 =\"khushi\"\n",
    "sorted(s6)"
   ]
  },
  {
   "cell_type": "code",
   "execution_count": 15,
   "metadata": {},
   "outputs": [
    {
     "name": "stdout",
     "output_type": "stream",
     "text": [
      "False\n"
     ]
    }
   ],
   "source": [
    "s1 =\"khushi\"     #using comparision operators\n",
    "s2 =\"parihar\"\n",
    "print(s1 >s2)"
   ]
  },
  {
   "cell_type": "code",
   "execution_count": 16,
   "metadata": {},
   "outputs": [
    {
     "name": "stdout",
     "output_type": "stream",
     "text": [
      "khushi\n"
     ]
    },
    {
     "data": {
      "text/plain": [
       "'kHusHi'"
      ]
     },
     "execution_count": 16,
     "metadata": {},
     "output_type": "execute_result"
    }
   ],
   "source": [
    "#methods of string\n",
    "s7 =\"khushi\"\n",
    "print(s7)\n",
    "# s7.index(\"k\")\n",
    "# s7.index(\"kh\")\n",
    "# s7.count(\"k\")\n",
    "# s7.startswith(\"kh\")\n",
    "# s7 =\"1234\"\n",
    "# s7.isdigit()\n",
    "# s7 =\"khushi\"\n",
    "# s7.islower()\n",
    "# s7 =\"khushi\"\n",
    "# s7.isupper()\n",
    "# s7 =\"khushi\"\n",
    "# s7.upper()\n",
    "# s7 =\"khushi\"\n",
    "# s7. replace(\"k\",\"K\")\n",
    "s7.replace(\"h\",\"H\",s7.count(\"h\"))\n",
    "\n",
    "\n",
    "\n",
    "\n"
   ]
  },
  {
   "cell_type": "code",
   "execution_count": 17,
   "metadata": {},
   "outputs": [
    {
     "name": "stdout",
     "output_type": "stream",
     "text": [
      "sum of {} and {} is {}\n"
     ]
    },
    {
     "data": {
      "text/plain": [
       "'sum of 10 and 20 is 30'"
      ]
     },
     "execution_count": 17,
     "metadata": {},
     "output_type": "execute_result"
    }
   ],
   "source": [
    "# some (i m p ) functions\n",
    "a,b = 10,20\n",
    "s8 =\"sum of {} and {} is {}\"  #print sum using formate functions\n",
    "print(s8)\n",
    "s8.format(a,b,a+b)"
   ]
  },
  {
   "cell_type": "code",
   "execution_count": 18,
   "metadata": {},
   "outputs": [
    {
     "data": {
      "text/plain": [
       "'sum of 30,and 20 is 10'"
      ]
     },
     "execution_count": 18,
     "metadata": {},
     "output_type": "execute_result"
    }
   ],
   "source": [
    "s8 =\"sum of {2},and {1} is {0}\"  #using formate function using indexing\n",
    "s8.format(a , b,a+b)   "
   ]
  },
  {
   "cell_type": "code",
   "execution_count": null,
   "metadata": {},
   "outputs": [],
   "source": [
    "s9 =\"my name is khushi parihar\" #print a string ofor list formate using splite \n",
    "# s9.split(\" \")                 \n",
    "# s9.split(\"khushi\")\n",
    "# ls = input(\"enter number sepreted by comma\")\n",
    "# ls.split(,)\n",
    "# ls1 =[int(x) for x in input(\"enter nymber\".split(\",\"))]"
   ]
  }
 ],
 "metadata": {
  "kernelspec": {
   "display_name": "Python 3",
   "language": "python",
   "name": "python3"
  },
  "language_info": {
   "codemirror_mode": {
    "name": "ipython",
    "version": 3
   },
   "file_extension": ".py",
   "mimetype": "text/x-python",
   "name": "python",
   "nbconvert_exporter": "python",
   "pygments_lexer": "ipython3",
   "version": "3.11.2"
  },
  "orig_nbformat": 4,
  "vscode": {
   "interpreter": {
    "hash": "5238573367df39f7286bb46f9ff5f08f63a01a80960060ce41e3c79b190280fa"
   }
  }
 },
 "nbformat": 4,
 "nbformat_minor": 2
}
