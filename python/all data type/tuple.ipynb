{
 "cells": [
  {
   "cell_type": "code",
   "execution_count": 2,
   "metadata": {},
   "outputs": [
    {
     "name": "stdout",
     "output_type": "stream",
     "text": [
      "<class 'tuple'>\n"
     ]
    }
   ],
   "source": [
    "t1 =(1,2,3,4) #find type\n",
    "print(type(t1))"
   ]
  },
  {
   "cell_type": "code",
   "execution_count": 4,
   "metadata": {},
   "outputs": [
    {
     "name": "stdout",
     "output_type": "stream",
     "text": [
      "<class 'tuple'>\n"
     ]
    }
   ],
   "source": [
    "t2 =()\n",
    "print(type(t2))"
   ]
  },
  {
   "cell_type": "code",
   "execution_count": 7,
   "metadata": {},
   "outputs": [
    {
     "name": "stdout",
     "output_type": "stream",
     "text": [
      "<class 'int'>\n"
     ]
    }
   ],
   "source": [
    "t3 =(10) \n",
    "print(type(t3))"
   ]
  },
  {
   "cell_type": "code",
   "execution_count": 9,
   "metadata": {},
   "outputs": [
    {
     "name": "stdout",
     "output_type": "stream",
     "text": [
      "<class 'tuple'>\n"
     ]
    }
   ],
   "source": [
    "t4 =(10,)  #find a type of single value in tuple\n",
    "print(type(t4))"
   ]
  },
  {
   "cell_type": "code",
   "execution_count": 11,
   "metadata": {},
   "outputs": [
    {
     "name": "stdout",
     "output_type": "stream",
     "text": [
      "<class 'tuple'>\n"
     ]
    }
   ],
   "source": [
    "t5 =10,30,40   #find type of tuple without using ()\n",
    "print(type(t5))"
   ]
  },
  {
   "cell_type": "code",
   "execution_count": 13,
   "metadata": {},
   "outputs": [
    {
     "name": "stdout",
     "output_type": "stream",
     "text": [
      "<class 'tuple'>\n"
     ]
    }
   ],
   "source": [
    "t6 =30,40,50, #find type using last comma and without using parenthisis\n",
    "print(type(t6))"
   ]
  },
  {
   "cell_type": "code",
   "execution_count": 15,
   "metadata": {},
   "outputs": [
    {
     "name": "stdout",
     "output_type": "stream",
     "text": [
      "10\n"
     ]
    }
   ],
   "source": [
    "t7 =(10,30,20,40) #find a value using indexed\n",
    "print(t7[0])"
   ]
  },
  {
   "cell_type": "code",
   "execution_count": 23,
   "metadata": {},
   "outputs": [
    {
     "name": "stdout",
     "output_type": "stream",
     "text": [
      "10\n",
      "11\n",
      "12\n",
      "13\n",
      "19\n",
      "18\n"
     ]
    }
   ],
   "source": [
    "r =range(10,20,1)\n",
    "print(r[0])\n",
    "print(r[1])\n",
    "print(r[2])\n",
    "print(r[3])\n",
    "print(r[-1])\n",
    "print(r[-2])"
   ]
  },
  {
   "cell_type": "code",
   "execution_count": 31,
   "metadata": {},
   "outputs": [
    {
     "name": "stdout",
     "output_type": "stream",
     "text": [
      "3\n",
      "10\n",
      "30\n",
      "60\n",
      "[10, 20, 30]\n",
      "[30, 20, 10]\n"
     ]
    }
   ],
   "source": [
    "t8 =(10,20,30)  #built in function\n",
    "print(len(t8))\n",
    "print(min(t8))\n",
    "print(max(t8))\n",
    "print(sum(t8))\n",
    "print(sorted(t8))\n",
    "print(sorted(t8,reverse =True))\n"
   ]
  },
  {
   "cell_type": "code",
   "execution_count": 52,
   "metadata": {},
   "outputs": [
    {
     "name": "stdout",
     "output_type": "stream",
     "text": [
      "0\n",
      "1\n"
     ]
    }
   ],
   "source": [
    "t9 =(10,30,40) #using index function\n",
    "print(t9.index(10)) #provide a element index \n",
    "print(t9.index(30))"
   ]
  },
  {
   "cell_type": "code",
   "execution_count": 58,
   "metadata": {},
   "outputs": [
    {
     "name": "stdout",
     "output_type": "stream",
     "text": [
      "1\n",
      "1\n",
      "1\n"
     ]
    }
   ],
   "source": [
    "t9=(10,30,40)  #using count function in python\n",
    "print(t9.count(10)) # what time element are ripyted\n",
    "print(t9.count(30))\n",
    "print(t9.count(40))"
   ]
  },
  {
   "cell_type": "code",
   "execution_count": 65,
   "metadata": {},
   "outputs": [
    {
     "name": "stdout",
     "output_type": "stream",
     "text": [
      "(2, 3, 4, 5)\n",
      "(1, 2, 3)\n",
      "(1, 2, 3, 4, 5, 6, 7)\n",
      "(7, 6, 5, 4, 3, 2, 1)\n",
      "(7,)\n"
     ]
    }
   ],
   "source": [
    "#siling operater [start:stop:step]\n",
    "t9 =(1,2,3,4,5,6,7)\n",
    "print(t9[1:5:1])\n",
    "print(t9[ :3])\n",
    "print(t9[0:])\n",
    "print(t9[ ::-1])\n",
    "print(t9[-1::])"
   ]
  },
  {
   "cell_type": "code",
   "execution_count": 1,
   "metadata": {},
   "outputs": [],
   "source": [
    "# t10 =tuple([int(e) for e in input().split(\",\")])\n",
    "# t10 =tuple()"
   ]
  },
  {
   "cell_type": "markdown",
   "metadata": {},
   "source": []
  }
 ],
 "metadata": {
  "kernelspec": {
   "display_name": "Python 3",
   "language": "python",
   "name": "python3"
  },
  "language_info": {
   "codemirror_mode": {
    "name": "ipython",
    "version": 3
   },
   "file_extension": ".py",
   "mimetype": "text/x-python",
   "name": "python",
   "nbconvert_exporter": "python",
   "pygments_lexer": "ipython3",
   "version": "3.11.2"
  },
  "orig_nbformat": 4,
  "vscode": {
   "interpreter": {
    "hash": "5238573367df39f7286bb46f9ff5f08f63a01a80960060ce41e3c79b190280fa"
   }
  }
 },
 "nbformat": 4,
 "nbformat_minor": 2
}
